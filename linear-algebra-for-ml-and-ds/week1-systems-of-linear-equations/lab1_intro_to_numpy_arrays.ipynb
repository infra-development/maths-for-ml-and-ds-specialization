{
 "cells": [
  {
   "cell_type": "markdown",
   "id": "60147c670ccca22d",
   "metadata": {},
   "source": [
    "# Introduction to Python Metrices and NumPy\n",
    "\n",
    "Welcome to your first notebook of this specialization! In this notebook, you will use NumPy to create 2-D arrays and easily compute mathematical operations. NumPy (Numerical Python) is an open-source package that is widely used in science and engineering. Feel free to skip this notebook if you are already fluent with NumPy.\n",
    "\n",
    "### After this assignment you will be able to:\n",
    "- Use Jupyter Notebook and its features.\n",
    "- Use NumPy functions to create arrays and NumPy array operations.\n",
    "- Use indexing and slicing for 2-D arrays.\n",
    "- Find the shape of an array, reshape it ans stack it horizontally and vertically.\n",
    "\n",
    "### Instructions\n",
    "- You will be using Python 3.\n",
    "- Follow along the cells using `shift` + `enter`. Alternatively, you can press `Run` in the menu."
   ]
  },
  {
   "cell_type": "markdown",
   "id": "a9c22994c148e1a1",
   "metadata": {},
   "source": [
    "# About Jupyter Notebook\n",
    "Jupyter Notebooks are interactive coding journals that integrate live code, explanatory text, equations, visualizations and other multimedia resources, all in a single document. As a first exercise, run the test snippet below and the print statement cell for \"Hello World\"."
   ]
  },
  {
   "cell_type": "markdown",
   "id": "1758b155-c52f-4407-a31a-6a0ff2a1a62f",
   "metadata": {},
   "source": [
    "# Table of Contents\n",
    "\n",
    "[About Jupyter Notebook](#about-jupyter-notebook)\n",
    "- [1 - Basics of NumPy](#basics-of-numpy)\n",
    "    - [1.1 - Packages](#packages)\n",
    "    - [1.2 - Advantages of using NumPy arrays](#advantages-of-using-numpy-arrays)\n",
    "    - [1.3 - How to create NumPy arrasy](#how-to-create-numpy-arrasy)\n",
    "    - [1.4 - More on NumPy arrays](#more-on-numpy-arrays)\n",
    "- [2 - Multidimensional arrays](#multidimensional-arrays)\n",
    "    - [2.1 - Finding size, shape and dimension](#finding-size-shape-and-dimension)\n",
    "- [3 - Array math operations](#array-math-operations)\n",
    "    - [3.1 - Multiplying vector with a scalar(broadcasting)](#multiplying-vector-with-a-scalar-broadcasting)\n",
    "- [4 - Indexing and slicing](#indexing-and-slicing)\n",
    "    - [4.1 - Indexing](#indexing)\n",
    "    - [4.2 - Slicing](#slicing)\n",
    "- [5 - Stacking](#stacking)\n",
    "- [6 - Excercises](#exercises)\n"
   ]
  },
  {
   "cell_type": "markdown",
   "id": "3c013c25804a54b9",
   "metadata": {},
   "source": [
    "# About Jupyter Notebook\n",
    "\n",
    "Jupyter Notebooks are interactive codeing journals that integrate live code, explanatory text, equations, visualizations and other mulitimedia resources, all in a single document. As a first excercise, run the test snippet below and the print statement cell for \"Hello World\"."
   ]
  },
  {
   "cell_type": "code",
   "execution_count": 2,
   "id": "a1eba14c-6e6e-4117-afc4-aa0573498fc7",
   "metadata": {},
   "outputs": [],
   "source": [
    "# Run the \"Hello World\" in the cell below the print \"Hello World\".\n",
    "test = \"Hello WOrld\""
   ]
  },
  {
   "cell_type": "code",
   "execution_count": 3,
   "id": "ebd60cad-a2c1-416f-917e-e3574da76230",
   "metadata": {},
   "outputs": [
    {
     "name": "stdout",
     "output_type": "stream",
     "text": [
      "Hello WOrld\n"
     ]
    }
   ],
   "source": [
    "print(test)"
   ]
  },
  {
   "cell_type": "markdown",
   "id": "52be9d18-d048-474b-bd45-ec985fca1fe8",
   "metadata": {},
   "source": [
    "# 1 - Basics of NumPy\n",
    "NumPy is the main package for scientific computing in Python. It performs a wide variety of advanced mathematical operations with high efficiency. In this practice lab you will learn several key NumPy functions that will help you in future assignments, such as creating arrays, slicing, indexing, reshaping and stacking."
   ]
  },
  {
   "cell_type": "markdown",
   "id": "82ce1571-0126-4408-a4ac-29c1d316fd9b",
   "metadata": {},
   "source": [
    "## 1.1 - Packages\n",
    "Before you get started, you have to import NumPy to load its functions. As you may notice, even though there is no expected output, when you run this cell, the Jupyter Notebook imports the package (often referred to as the library) and its functions. Try it for yourself and run the following cell."
   ]
  },
  {
   "cell_type": "code",
   "execution_count": 4,
   "id": "cede2634-80ef-4e4e-85c5-de87c5290348",
   "metadata": {},
   "outputs": [],
   "source": [
    "import numpy as np"
   ]
  },
  {
   "cell_type": "markdown",
   "id": "82fb8257-9980-49c0-8f3c-4212649334a1",
   "metadata": {},
   "source": [
    "# 1.2 - Advantages of using NumPy arrays\n",
    "\n",
    "Arrays are one of the core data structures of the NumPy library, essential for organizing your data. You can think of them as a grid of values, all of the same type. If you have used Python lists before, you may remember that they are convenient, as you can store different data types. However, Python lists are limited in functions and take up more space and time to process than NumPy arrays.\n",
    "\n",
    "NumPy provides an array object that is much faster and more compact than Python lists. Through its extensive API integration, the library offers many built-in functions that make computing much easier with only a few lines of code. This can be a huge advantage when performing math operations on large datasets.\n",
    "\n",
    "The array object in NumPy is called ndarray meaning 'n-dimensional array'. To begin with, you will use one of the most common array types: the one-dimensional array ('1-D'). A 1-D array represents a standard list of values entirely in one dimension. Remember that in NumPy, all of the elements within the array are of the same type."
   ]
  },
  {
   "cell_type": "code",
   "execution_count": 5,
   "id": "9d968401-b340-429d-8394-3c3cb33393f3",
   "metadata": {},
   "outputs": [
    {
     "name": "stdout",
     "output_type": "stream",
     "text": [
      "[10 12]\n"
     ]
    }
   ],
   "source": [
    "one_dimensional_arr = np.array([10, 12])\n",
    "print(one_dimensional_arr)"
   ]
  },
  {
   "cell_type": "markdown",
   "id": "efa90c18-0906-45df-a6ae-948e53354afe",
   "metadata": {},
   "source": [
    "# 1.3 - How to create NumPy arrays\n",
    "\n",
    "There are several ways to create an array in NumPy. You can create a 1-D array by simply using the function array() which takes in a list of values as an argument and returns a 1-D array."
   ]
  },
  {
   "cell_type": "code",
   "execution_count": 6,
   "id": "e0000932-d4f0-4b0c-9d66-ec4abb079a23",
   "metadata": {},
   "outputs": [
    {
     "name": "stdout",
     "output_type": "stream",
     "text": [
      "[1 2 3]\n"
     ]
    }
   ],
   "source": [
    "# Create and print NumpY array 'a' containing the elements 1, 2, 3.\n",
    "a = np.array([1, 2, 3])\n",
    "print(a)"
   ]
  },
  {
   "cell_type": "markdown",
   "id": "3dffda39-cb15-44e4-b4c4-b3185b12bf07",
   "metadata": {},
   "source": [
    "Another way to implement an array is using `np.arange()`. This function will return an array of evenly spaced values within a given interval. To learn more about the arguments that this function takes, there is a powerful feature in Jupyter Notebook that allows you to access the documentation of any function by simply pressing `shift`+`tab` on your keyboard when clicking on the function. Give it a try for the built-in documentation of `np.arange()`."
   ]
  },
  {
   "cell_type": "code",
   "execution_count": 7,
   "id": "26d194f5-fc07-412f-9a65-26dae6fb04ee",
   "metadata": {},
   "outputs": [
    {
     "name": "stdout",
     "output_type": "stream",
     "text": [
      "[0 1 2]\n"
     ]
    }
   ],
   "source": [
    "# Create an array with 3 integers, starting from the default integer 0.\n",
    "b = np.arange(3)\n",
    "print(b)"
   ]
  },
  {
   "cell_type": "code",
   "execution_count": 8,
   "id": "066c78e0-0bc5-4deb-9033-cb0ec4e0b0eb",
   "metadata": {},
   "outputs": [
    {
     "name": "stdout",
     "output_type": "stream",
     "text": [
      "[ 1  4  7 10 13 16 19]\n"
     ]
    }
   ],
   "source": [
    "# Create an array that starts from the integer 1, ends at 20, incremented by 3.\n",
    "c = np.arange(1, 20, 3)\n",
    "print(c)"
   ]
  },
  {
   "cell_type": "markdown",
   "id": "ff38a9cb-a684-4627-b316-d81710ca6c6c",
   "metadata": {},
   "source": [
    "What if you wanted to create an array with five evenly spaced values in the interval from 0 to 100? As you may notice, you have 3 parameters that a function must take. One paremeter is the starting number, in this case 0, the final number 100 and the number of elements in the array, in this case, 5. NumPy has a function that allows you to do specifically this by using `np.linspace()`."
   ]
  },
  {
   "cell_type": "code",
   "execution_count": 10,
   "id": "74c5f4d5-cb85-4a4f-9e17-c865205cca65",
   "metadata": {},
   "outputs": [
    {
     "name": "stdout",
     "output_type": "stream",
     "text": [
      "[  0.  25.  50.  75. 100.]\n"
     ]
    }
   ],
   "source": [
    "lin_spaced_arr = np.linspace(0, 100, 5)\n",
    "print(lin_spaced_arr)"
   ]
  },
  {
   "cell_type": "markdown",
   "id": "94908d57-eb9b-4707-952c-0fd2bbfb518c",
   "metadata": {},
   "source": [
    "Did you notice that the output of the function is presented in the float value form (e.g. \"... 25. 50. ...\")? The reason is that the default type for values in the NumPy function `np.linspace` is a floating point (`np.float64`). You can easily specify your data type using `dtype`. If you access the built-in documentation for the functions, you will notice that most numpy functions take an optional parameter `dtype`. In addition to float, NumPy has several other data types such as `int`, and `char`.\n",
    "\n",
    "To change the type to integers, you need to set the dtype to `int`. You can do so, even in the previous functions. Feel free to try it out and modify the cells to output your desired data type."
   ]
  },
  {
   "cell_type": "code",
   "execution_count": 12,
   "id": "7205ef60-24e1-422c-bdce-14d37241842c",
   "metadata": {},
   "outputs": [
    {
     "name": "stdout",
     "output_type": "stream",
     "text": [
      "[  0  25  50  75 100]\n"
     ]
    }
   ],
   "source": [
    "lin_spaced_arr_int = np.linspace(0, 100, 5, dtype=int)\n",
    "print(lin_spaced_arr_int)"
   ]
  },
  {
   "cell_type": "code",
   "execution_count": 14,
   "id": "bee3a69d-2735-44bc-a52c-ebd4c04a49a8",
   "metadata": {},
   "outputs": [
    {
     "name": "stdout",
     "output_type": "stream",
     "text": [
      "[ 1  4  7 10 13 16 19]\n"
     ]
    }
   ],
   "source": [
    "c_int = np.arange(1, 20, 3, dtype=int)\n",
    "print(c_int)"
   ]
  },
  {
   "cell_type": "code",
   "execution_count": 15,
   "id": "78d63c38-af16-432e-817d-2703f9bb84b5",
   "metadata": {},
   "outputs": [
    {
     "name": "stdout",
     "output_type": "stream",
     "text": [
      "[0. 1. 2.]\n"
     ]
    }
   ],
   "source": [
    "b_float = np.arange(3, dtype=float)\n",
    "print(b_float)"
   ]
  },
  {
   "cell_type": "code",
   "execution_count": 16,
   "id": "fa6843bd-18a1-4224-86d0-60f12ba50131",
   "metadata": {},
   "outputs": [
    {
     "name": "stdout",
     "output_type": "stream",
     "text": [
      "['Welcome to Math for ML!']\n",
      "<U23\n"
     ]
    }
   ],
   "source": [
    "char_arr = np.array(['Welcome to Math for ML!'])\n",
    "print(char_arr)\n",
    "print(char_arr.dtype) # Prints the data type of the array"
   ]
  },
  {
   "cell_type": "markdown",
   "id": "eb198bd9-8896-4144-af42-03d2abd93162",
   "metadata": {},
   "source": [
    "Did you notice that the output of the data type of the `char_arr` array is `<U23`? This means that the string (`'Welcome to Math for ML!'`) is a 23-character (23) unicode string (`U`) on a little-endian architecture (`<`). You can learn more about data types [here](https://numpy.org/doc/stable/user/basics.types.html)."
   ]
  },
  {
   "cell_type": "markdown",
   "id": "c9094f8c-5739-41f1-b39f-7e6146f6bb9b",
   "metadata": {},
   "source": [
    "# 1.4 More on MumPy arrays\n",
    "One of the advantages of using NumPy is that you can easily create arrays with built-in functions such as:\n",
    "- `np.ones()` - Returns a new array setting values to one.\n",
    "- `np.zeros()` - Returns a new array setting values to zero.\n",
    "- `np.empty()` - Returns a new uninitialized array.\n",
    "- `np.random.rand()` - Returns a new array with values chosen at random."
   ]
  },
  {
   "cell_type": "code",
   "execution_count": 13,
   "id": "5533ded5-20d8-4641-965d-555877d67c9c",
   "metadata": {},
   "outputs": [
    {
     "name": "stdout",
     "output_type": "stream",
     "text": [
      "[1 1 1]\n"
     ]
    }
   ],
   "source": [
    "# Return a new array of shape 3, filled with ones. \n",
    "ones_arr = np.ones(3, dtype=int)\n",
    "print(ones_arr)"
   ]
  },
  {
   "cell_type": "code",
   "execution_count": 18,
   "id": "36023842-ea56-4813-9aae-b35d4d434d28",
   "metadata": {},
   "outputs": [
    {
     "name": "stdout",
     "output_type": "stream",
     "text": [
      "[0. 0. 0.]\n"
     ]
    }
   ],
   "source": [
    "# Return a new array of shape 3, filled with zeroes.\n",
    "zeros_arr = np.zeros(3)\n",
    "print(zeros_arr)"
   ]
  },
  {
   "cell_type": "code",
   "execution_count": 19,
   "id": "2ce33677-8065-495f-823f-2fb2224c5cac",
   "metadata": {},
   "outputs": [
    {
     "name": "stdout",
     "output_type": "stream",
     "text": [
      "[0. 0. 0.]\n"
     ]
    }
   ],
   "source": [
    "# Return a new array of shape 3, without initializing entries.\n",
    "empt_arr = np.empty(3)\n",
    "print(empt_arr)"
   ]
  },
  {
   "cell_type": "code",
   "execution_count": 20,
   "id": "b1c92dec-f02f-41b0-82f9-7e4237f72c08",
   "metadata": {},
   "outputs": [
    {
     "name": "stdout",
     "output_type": "stream",
     "text": [
      "[0.72139913 0.20843034 0.25982815]\n"
     ]
    }
   ],
   "source": [
    "# Return a new array of shape 3 with random numbers between 0 and 1.\n",
    "rand_arr = np.random.rand(3)\n",
    "print(rand_arr)"
   ]
  },
  {
   "cell_type": "markdown",
   "id": "8ef34c6a-1ff7-487c-8cbd-2e0440654193",
   "metadata": {},
   "source": [
    "# 2 - Multidimensional Arrays\n",
    "With NumPy you can also create arrays with more than one dimension. In the above examples, you dealt with 1-D arrays, where you can access their elements using a single index. A multidimensional array has more than one column. Think of a multidimensional array as an excel sheet where each row/column represents a dimension."
   ]
  },
  {
   "attachments": {
    "3aa22b7d-8343-41dc-8820-7fe7f2caa180.png": {
     "image/png": "[encoded data removed]"
    }
   },
   "cell_type": "markdown",
   "id": "20b195ed-a287-4363-9098-a1bb6ec99280",
   "metadata": {},
   "source": [
    "![image.png](attachment:3aa22b7d-8343-41dc-8820-7fe7f2caa180.png)"
   ]
  },
  {
   "cell_type": "code",
   "execution_count": 21,
   "id": "0c6e63a2-775d-4dca-9fa2-31adcd704b49",
   "metadata": {},
   "outputs": [
    {
     "name": "stdout",
     "output_type": "stream",
     "text": [
      "[[1 2 3]\n",
      " [4 5 6]]\n"
     ]
    }
   ],
   "source": [
    "# Create a 2 dimensional array (2-D)\n",
    "two_dim_arr = np.array([[1,2,3], [4,5,6]])\n",
    "print(two_dim_arr)"
   ]
  },
  {
   "cell_type": "markdown",
   "id": "3f65c04e-96de-4aa9-a9e7-6c42f9f42790",
   "metadata": {},
   "source": [
    "An alternative way to create a multidimensional array is by reshaping the initial 1-D array. Using np.reshape() you can rearrange elements of the previous array into a new shape."
   ]
  },
  {
   "cell_type": "code",
   "execution_count": 22,
   "id": "e6f562f1-3c83-4cf5-9b48-10dec2c8fad3",
   "metadata": {},
   "outputs": [
    {
     "name": "stdout",
     "output_type": "stream",
     "text": [
      "[[1 2 3]\n",
      " [4 5 6]]\n"
     ]
    }
   ],
   "source": [
    "# 1-D array \n",
    "one_dim_arr = np.array([1, 2, 3, 4, 5, 6])\n",
    "\n",
    "# Multidimensional array using reshape()\n",
    "multi_dim_arr = np.reshape(\n",
    "                one_dim_arr, # the array to be reshaped\n",
    "               (2,3) # dimensions of the new array\n",
    "              )\n",
    "# Print the new 2-D array with two rows and three columns\n",
    "print(multi_dim_arr)"
   ]
  },
  {
   "cell_type": "code",
   "execution_count": null,
   "id": "412f1c9e-8b2d-4682-9fa3-d67de381fa85",
   "metadata": {},
   "outputs": [],
   "source": [
    "# 2.1 "
   ]
  }
 ],
 "metadata": {
  "kernelspec": {
   "display_name": "Python 3 (ipykernel)",
   "language": "python",
   "name": "python3"
  },
  "language_info": {
   "codemirror_mode": {
    "name": "ipython",
    "version": 3
   },
   "file_extension": ".py",
   "mimetype": "text/x-python",
   "name": "python",
   "nbconvert_exporter": "python",
   "pygments_lexer": "ipython3",
   "version": "3.13.3"
  }
 },
 "nbformat": 4,
 "nbformat_minor": 5
}
